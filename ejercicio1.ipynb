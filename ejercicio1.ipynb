{
 "cells": [
  {
   "cell_type": "code",
   "execution_count": 30,
   "id": "0b181dd4",
   "metadata": {},
   "outputs": [],
   "source": [
    "import pandas as pd\n",
    "from sklearn import linear_model\n",
    "import numpy as np"
   ]
  },
  {
   "cell_type": "markdown",
   "id": "0e02a26b",
   "metadata": {},
   "source": [
    "# Haciendolo con regresion lineal de sklearn"
   ]
  },
  {
   "cell_type": "code",
   "execution_count": 26,
   "id": "a19fced8",
   "metadata": {},
   "outputs": [
    {
     "name": "stdout",
     "output_type": "stream",
     "text": [
      "    Experimento    x1    x2      y\n",
      "0             1  41.9  29.1  251.3\n",
      "1             2  43.4  29.3  251.3\n",
      "2             3  43.9  29.5  248.3\n",
      "3             4  44.5  29.7  267.5\n",
      "4             5  47.3  29.9  273.0\n",
      "5             6  47.5  30.3  276.5\n",
      "6             7  47.9  30.5  270.3\n",
      "7             8  50.2  30.7  274.9\n",
      "8             9  52.8  30.8  285.0\n",
      "9            10  53.2  30.9  290.0\n",
      "10           11  56.7  31.5  297.0\n",
      "11           12  57.0  31.7  302.5\n",
      "12           13  63.5  31.9  304.5\n",
      "13           14  64.3  32.0  309.3\n",
      "14           15  71.1  32.1  321.7\n",
      "15           16  77.0  32.5  330.7\n",
      "16           17  77.8  32.9  349.0\n"
     ]
    }
   ],
   "source": [
    "\n",
    "datos=pd.read_csv(\"est_quimico.csv\")\n",
    "print(datos)"
   ]
  },
  {
   "cell_type": "code",
   "execution_count": 27,
   "id": "86627fcb",
   "metadata": {},
   "outputs": [],
   "source": [
    "y=datos[\"y\"]\n",
    "X=datos[[\"x1\",\"x2\"]]\n",
    "rl=linear_model.LinearRegression().fit(X,y)"
   ]
  },
  {
   "cell_type": "code",
   "execution_count": 28,
   "id": "daa45df1",
   "metadata": {},
   "outputs": [],
   "source": [
    "y_predic=rl.predict(X)"
   ]
  },
  {
   "cell_type": "code",
   "execution_count": 29,
   "id": "27ded9f1",
   "metadata": {},
   "outputs": [
    {
     "name": "stdout",
     "output_type": "stream",
     "text": [
      "-151.7579998249567\n",
      "[ 1.25389314 12.00081181]\n"
     ]
    }
   ],
   "source": [
    "print(rl.intercept_)\n",
    "print(rl.coef_)"
   ]
  },
  {
   "cell_type": "markdown",
   "id": "661e9747",
   "metadata": {},
   "source": [
    "# Haciendolo a mano"
   ]
  },
  {
   "cell_type": "code",
   "execution_count": 62,
   "id": "55d80f1d",
   "metadata": {},
   "outputs": [],
   "source": [
    "idv=np.ones((datos.shape[0],1))"
   ]
  },
  {
   "cell_type": "code",
   "execution_count": 81,
   "id": "e27a7706",
   "metadata": {},
   "outputs": [],
   "source": [
    "X=datos[[\"x1\",\"x2\"]].to_numpy()\n",
    "X=np.hstack([idv,X])\n",
    "Y=datos[[\"y\"]].to_numpy()"
   ]
  },
  {
   "cell_type": "code",
   "execution_count": 82,
   "id": "29960f64",
   "metadata": {},
   "outputs": [
    {
     "data": {
      "text/plain": [
       "array([[-151.75799982],\n",
       "       [   1.25389314],\n",
       "       [  12.00081181]])"
      ]
     },
     "execution_count": 82,
     "metadata": {},
     "output_type": "execute_result"
    }
   ],
   "source": [
    "beta=np.linalg.inv(X.T@X)@X.T@Y\n",
    "beta"
   ]
  },
  {
   "cell_type": "code",
   "execution_count": 85,
   "id": "7d523ed6",
   "metadata": {},
   "outputs": [
    {
     "data": {
      "text/plain": [
       "array([[413.01432921]])"
      ]
     },
     "execution_count": 85,
     "metadata": {},
     "output_type": "execute_result"
    }
   ],
   "source": [
    "SSE=(Y.T@Y)-(beta.T@X.T@Y)\n",
    "SSE"
   ]
  },
  {
   "cell_type": "code",
   "execution_count": 87,
   "id": "e34c5605",
   "metadata": {},
   "outputs": [
    {
     "data": {
      "text/plain": [
       "array([[29.50102352]])"
      ]
     },
     "execution_count": 87,
     "metadata": {},
     "output_type": "execute_result"
    }
   ],
   "source": [
    "varest=SSE/(Y.shape[0]-beta.shape[0])\n",
    "varest"
   ]
  }
 ],
 "metadata": {
  "kernelspec": {
   "display_name": "Python 3",
   "language": "python",
   "name": "python3"
  },
  "language_info": {
   "codemirror_mode": {
    "name": "ipython",
    "version": 3
   },
   "file_extension": ".py",
   "mimetype": "text/x-python",
   "name": "python",
   "nbconvert_exporter": "python",
   "pygments_lexer": "ipython3",
   "version": "3.11.9"
  }
 },
 "nbformat": 4,
 "nbformat_minor": 5
}
